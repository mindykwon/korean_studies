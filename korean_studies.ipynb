{
 "cells": [
  {
   "cell_type": "code",
   "execution_count": 1,
   "metadata": {},
   "outputs": [],
   "source": [
    "import pandas as pd\n",
    "import numpy as np\n",
    "import seaborn as sns\n",
    "import matplotlib.pyplot as plt\n",
    "import matplotlib.font_manager as fm"
   ]
  },
  {
   "cell_type": "markdown",
   "metadata": {},
   "source": [
    "### 데이터 불러오기"
   ]
  },
  {
   "cell_type": "code",
   "execution_count": 2,
   "metadata": {},
   "outputs": [
    {
     "name": "stdout",
     "output_type": "stream",
     "text": [
      "(996, 9)\n"
     ]
    },
    {
     "data": {
      "text/html": [
       "<div>\n",
       "<style scoped>\n",
       "    .dataframe tbody tr th:only-of-type {\n",
       "        vertical-align: middle;\n",
       "    }\n",
       "\n",
       "    .dataframe tbody tr th {\n",
       "        vertical-align: top;\n",
       "    }\n",
       "\n",
       "    .dataframe thead th {\n",
       "        text-align: right;\n",
       "    }\n",
       "</style>\n",
       "<table border=\"1\" class=\"dataframe\">\n",
       "  <thead>\n",
       "    <tr style=\"text-align: right;\">\n",
       "      <th></th>\n",
       "      <th>Index</th>\n",
       "      <th>Title</th>\n",
       "      <th>Abstract</th>\n",
       "      <th>Authors</th>\n",
       "      <th>Keywords</th>\n",
       "      <th>Journal</th>\n",
       "      <th>Publisher</th>\n",
       "      <th>PubDate</th>\n",
       "      <th>CitationCount</th>\n",
       "    </tr>\n",
       "  </thead>\n",
       "  <tbody>\n",
       "    <tr>\n",
       "      <th>0</th>\n",
       "      <td>A101906131</td>\n",
       "      <td>이효석 문학에 나타난 문화번역과 경계사유－『벽공무한』을 중심으로－</td>\n",
       "      <td>이효석 문학은 접근 방식이나 문학사적 평가에서 모순과 균열을 보이면서 커다란 진폭을...</td>\n",
       "      <td>김미현</td>\n",
       "      <td>fascism,female dandy,nation,border thinking,lo...</td>\n",
       "      <td>한국학연구</td>\n",
       "      <td>인하대학교 한국학연구소</td>\n",
       "      <td>2015</td>\n",
       "      <td>-999999</td>\n",
       "    </tr>\n",
       "    <tr>\n",
       "      <th>1</th>\n",
       "      <td>A101906128</td>\n",
       "      <td>일제강점기 신민요의 문학정서 연구</td>\n",
       "      <td>이 논문은 노랫말을 통해 표출되는 일제강점기(1910~1945) 新民謠의 문학적 정...</td>\n",
       "      <td>신광호</td>\n",
       "      <td>쾌 정서,신민요,文?情?,不快情?,불쾌 정서,문학정서,일제강점기,日帝强占期,新民?,快情?</td>\n",
       "      <td>한국학연구</td>\n",
       "      <td>인하대학교 한국학연구소</td>\n",
       "      <td>2015</td>\n",
       "      <td>-999999</td>\n",
       "    </tr>\n",
       "    <tr>\n",
       "      <th>2</th>\n",
       "      <td>A101906126</td>\n",
       "      <td>중국 문화권 내 주변 諸國의 세계관－한반도의 제 왕조를 중심으로－</td>\n",
       "      <td>한반도에서 흥망한 전근대의 제 왕조는 고대 이래 중국문화권의 주변국으로서 일관되게 ...</td>\n",
       "      <td>이성시</td>\n",
       "      <td>고려의 세계관,신라의 세계관,高麗の世界?,고구려의 세계관,소중화,통일신라,新羅の世界...</td>\n",
       "      <td>한국학연구</td>\n",
       "      <td>인하대학교 한국학연구소</td>\n",
       "      <td>2015</td>\n",
       "      <td>-999999</td>\n",
       "    </tr>\n",
       "    <tr>\n",
       "      <th>3</th>\n",
       "      <td>A99624747</td>\n",
       "      <td>‘만큼’의 문법적 갈래와 용법</td>\n",
       "      <td>이 연구의 목적은 국어사전과 기존 문법서에서 ‘의존명사’라는 문법범주로 처리하고있는...</td>\n",
       "      <td>김지은</td>\n",
       "      <td>NaN</td>\n",
       "      <td>한국학논집</td>\n",
       "      <td>계명대학교 한국학연구원</td>\n",
       "      <td>2013</td>\n",
       "      <td>-999999</td>\n",
       "    </tr>\n",
       "    <tr>\n",
       "      <th>4</th>\n",
       "      <td>A101906103</td>\n",
       "      <td>김시종의 시와 ‘자서전’</td>\n",
       "      <td>본고는 김시종의 자서전과 시에 대해서, 자전적 텍스트 조선과 일본을 살아가다－제주도...</td>\n",
       "      <td>오세종</td>\n",
       "      <td>places,장소,autobiographies,lives,시,Kim si-jong,...</td>\n",
       "      <td>한국학연구</td>\n",
       "      <td>인하대학교 한국학연구소</td>\n",
       "      <td>2015</td>\n",
       "      <td>-999999</td>\n",
       "    </tr>\n",
       "  </tbody>\n",
       "</table>\n",
       "</div>"
      ],
      "text/plain": [
       "        Index                                 Title  \\\n",
       "0  A101906131  이효석 문학에 나타난 문화번역과 경계사유－『벽공무한』을 중심으로－   \n",
       "1  A101906128                    일제강점기 신민요의 문학정서 연구   \n",
       "2  A101906126  중국 문화권 내 주변 諸國의 세계관－한반도의 제 왕조를 중심으로－   \n",
       "3   A99624747                      ‘만큼’의 문법적 갈래와 용법   \n",
       "4  A101906103                         김시종의 시와 ‘자서전’   \n",
       "\n",
       "                                            Abstract Authors  \\\n",
       "0  이효석 문학은 접근 방식이나 문학사적 평가에서 모순과 균열을 보이면서 커다란 진폭을...     김미현   \n",
       "1  이 논문은 노랫말을 통해 표출되는 일제강점기(1910~1945) 新民謠의 문학적 정...     신광호   \n",
       "2  한반도에서 흥망한 전근대의 제 왕조는 고대 이래 중국문화권의 주변국으로서 일관되게 ...     이성시   \n",
       "3  이 연구의 목적은 국어사전과 기존 문법서에서 ‘의존명사’라는 문법범주로 처리하고있는...     김지은   \n",
       "4  본고는 김시종의 자서전과 시에 대해서, 자전적 텍스트 조선과 일본을 살아가다－제주도...     오세종   \n",
       "\n",
       "                                            Keywords Journal     Publisher  \\\n",
       "0  fascism,female dandy,nation,border thinking,lo...   한국학연구  인하대학교 한국학연구소   \n",
       "1  쾌 정서,신민요,文?情?,不快情?,불쾌 정서,문학정서,일제강점기,日帝强占期,新民?,快情?   한국학연구  인하대학교 한국학연구소   \n",
       "2  고려의 세계관,신라의 세계관,高麗の世界?,고구려의 세계관,소중화,통일신라,新羅の世界...   한국학연구  인하대학교 한국학연구소   \n",
       "3                                                NaN   한국학논집  계명대학교 한국학연구원   \n",
       "4  places,장소,autobiographies,lives,시,Kim si-jong,...   한국학연구  인하대학교 한국학연구소   \n",
       "\n",
       "   PubDate  CitationCount  \n",
       "0     2015        -999999  \n",
       "1     2015        -999999  \n",
       "2     2015        -999999  \n",
       "3     2013        -999999  \n",
       "4     2015        -999999  "
      ]
     },
     "execution_count": 2,
     "metadata": {},
     "output_type": "execute_result"
    }
   ],
   "source": [
    "paper = pd.read_excel(\"korean_studies.xls\")\n",
    "print(paper.shape)\n",
    "paper.head()"
   ]
  },
  {
   "cell_type": "markdown",
   "metadata": {},
   "source": [
    "### 2021년도에 출판된 논문들 필터"
   ]
  },
  {
   "cell_type": "code",
   "execution_count": 3,
   "metadata": {},
   "outputs": [
    {
     "data": {
      "text/html": [
       "<div>\n",
       "<style scoped>\n",
       "    .dataframe tbody tr th:only-of-type {\n",
       "        vertical-align: middle;\n",
       "    }\n",
       "\n",
       "    .dataframe tbody tr th {\n",
       "        vertical-align: top;\n",
       "    }\n",
       "\n",
       "    .dataframe thead th {\n",
       "        text-align: right;\n",
       "    }\n",
       "</style>\n",
       "<table border=\"1\" class=\"dataframe\">\n",
       "  <thead>\n",
       "    <tr style=\"text-align: right;\">\n",
       "      <th></th>\n",
       "      <th>Index</th>\n",
       "      <th>Title</th>\n",
       "      <th>Abstract</th>\n",
       "      <th>Authors</th>\n",
       "      <th>Keywords</th>\n",
       "      <th>Journal</th>\n",
       "      <th>Publisher</th>\n",
       "      <th>PubDate</th>\n",
       "      <th>CitationCount</th>\n",
       "    </tr>\n",
       "  </thead>\n",
       "  <tbody>\n",
       "    <tr>\n",
       "      <th>45</th>\n",
       "      <td>A107301048</td>\n",
       "      <td>공유와 협업의 글쓰기 플랫폼, 위키</td>\n",
       "      <td>NaN</td>\n",
       "      <td>김지선;;장문석;;유인태</td>\n",
       "      <td>Mediawiki,디지털리터러시,Wiki,Research,Data Literacy,...</td>\n",
       "      <td>한국학연구</td>\n",
       "      <td>인하대학교 한국학연구소</td>\n",
       "      <td>2021</td>\n",
       "      <td>-999999</td>\n",
       "    </tr>\n",
       "    <tr>\n",
       "      <th>110</th>\n",
       "      <td>A107300658</td>\n",
       "      <td>한국학의 위상학: 한국에서 열린 최초의 한국학 국제학술회의(‘한국의 전통과 변천’,...</td>\n",
       "      <td>NaN</td>\n",
       "      <td>옥창준</td>\n",
       "      <td>Asiatic Research Center,Tradition and Change i...</td>\n",
       "      <td>한국학</td>\n",
       "      <td>한국학중앙연구원 한국학중앙연구원</td>\n",
       "      <td>2021</td>\n",
       "      <td>-999999</td>\n",
       "    </tr>\n",
       "    <tr>\n",
       "      <th>192</th>\n",
       "      <td>A107291714</td>\n",
       "      <td>1930년대 한국 관련 서양어 문헌 목록의 편찬 경위와 분류체계 분석</td>\n",
       "      <td>NaN</td>\n",
       "      <td>배민재</td>\n",
       "      <td>Korean Studies.,문헌 목록,Bibliography,Royal Asiat...</td>\n",
       "      <td>한국학논총</td>\n",
       "      <td>국민대학교 한국학연구소</td>\n",
       "      <td>2021</td>\n",
       "      <td>-999999</td>\n",
       "    </tr>\n",
       "    <tr>\n",
       "      <th>227</th>\n",
       "      <td>A107300769</td>\n",
       "      <td>20세기 초 하와이 이민사회의 ｢혹부리 영감｣ 각색공연 고찰</td>\n",
       "      <td>NaN</td>\n",
       "      <td>최희영</td>\n",
       "      <td>혹부리 영감,Diasporic culture,민족 정체성,20세기 초 하와이,Eth...</td>\n",
       "      <td>한국학</td>\n",
       "      <td>한국학중앙연구원 한국학중앙연구원</td>\n",
       "      <td>2021</td>\n",
       "      <td>-999999</td>\n",
       "    </tr>\n",
       "    <tr>\n",
       "      <th>301</th>\n",
       "      <td>A107300753</td>\n",
       "      <td>17세기 일본 간행 조선본 근사록집해(近思錄集解) 연구</td>\n",
       "      <td>NaN</td>\n",
       "      <td>이유리</td>\n",
       "      <td>Imjin War,蓬左文庫,임진왜란,Jinsiliujijie,林羅山,한일서적교류사,...</td>\n",
       "      <td>한국학</td>\n",
       "      <td>한국학중앙연구원 한국학중앙연구원</td>\n",
       "      <td>2021</td>\n",
       "      <td>-999999</td>\n",
       "    </tr>\n",
       "    <tr>\n",
       "      <th>303</th>\n",
       "      <td>A107300691</td>\n",
       "      <td>검열과 개작: 채동선 작곡･정지용 시의 개작 양상을 중심으로</td>\n",
       "      <td>NaN</td>\n",
       "      <td>강영미</td>\n",
       "      <td>Adaption,반공이데올로기,납･월북 시인,정지용,Poet abducted to ...</td>\n",
       "      <td>한국학</td>\n",
       "      <td>한국학중앙연구원 한국학중앙연구원</td>\n",
       "      <td>2021</td>\n",
       "      <td>-999999</td>\n",
       "    </tr>\n",
       "    <tr>\n",
       "      <th>306</th>\n",
       "      <td>A107300615</td>\n",
       "      <td>수렴청정(垂簾聽政)과 국왕친정(國王親政) 그 사이: 청년 성종의 정치리더십에 투영된...</td>\n",
       "      <td>NaN</td>\n",
       "      <td>윤대식</td>\n",
       "      <td>Queen Jeonghui,성종,정희왕후,leadership,수렴청정,공적후원,re...</td>\n",
       "      <td>한국학</td>\n",
       "      <td>한국학중앙연구원 한국학중앙연구원</td>\n",
       "      <td>2021</td>\n",
       "      <td>-999999</td>\n",
       "    </tr>\n",
       "    <tr>\n",
       "      <th>308</th>\n",
       "      <td>A107300650</td>\n",
       "      <td>개화기 영한대역사전 연구: J. W. Hodge, Corean Words and P...</td>\n",
       "      <td>NaN</td>\n",
       "      <td>정동경</td>\n",
       "      <td>의미 기술,the selection of headwords,Corean Words ...</td>\n",
       "      <td>한국학</td>\n",
       "      <td>한국학중앙연구원 한국학중앙연구원</td>\n",
       "      <td>2021</td>\n",
       "      <td>-999999</td>\n",
       "    </tr>\n",
       "    <tr>\n",
       "      <th>320</th>\n",
       "      <td>A107300534</td>\n",
       "      <td>일제강점기 금속제 신선로의 제작양상과 소비문화</td>\n",
       "      <td>Before modern times, the main role of the Sins...</td>\n",
       "      <td>김세린</td>\n",
       "      <td>The Joseon Craftwork Manufactory,조선미술품제작소,신선로,...</td>\n",
       "      <td>한국학</td>\n",
       "      <td>한국학중앙연구원 한국학중앙연구원</td>\n",
       "      <td>2021</td>\n",
       "      <td>-999999</td>\n",
       "    </tr>\n",
       "    <tr>\n",
       "      <th>372</th>\n",
       "      <td>A107300712</td>\n",
       "      <td>베트남전 위문공연에 관한 젠더론적 연구Ⅱ(1964‒1973)</td>\n",
       "      <td>NaN</td>\n",
       "      <td>이진아</td>\n",
       "      <td>위문공연,consolation performance,ethnic/gender per...</td>\n",
       "      <td>한국학</td>\n",
       "      <td>한국학중앙연구원 한국학중앙연구원</td>\n",
       "      <td>2021</td>\n",
       "      <td>-999999</td>\n",
       "    </tr>\n",
       "    <tr>\n",
       "      <th>392</th>\n",
       "      <td>A107300616</td>\n",
       "      <td>한글소리 이름짓기의 비판적 고찰</td>\n",
       "      <td>NaN</td>\n",
       "      <td>권익기</td>\n",
       "      <td>Hangeul‒Sori Naming,한글소리 이름짓기,작명,Naming,Hangeu...</td>\n",
       "      <td>한국학</td>\n",
       "      <td>한국학중앙연구원 한국학중앙연구원</td>\n",
       "      <td>2021</td>\n",
       "      <td>-999999</td>\n",
       "    </tr>\n",
       "    <tr>\n",
       "      <th>970</th>\n",
       "      <td>A107271108</td>\n",
       "      <td>한국학중앙연구원 장서각의 연구 현황과 향후 과제</td>\n",
       "      <td>NaN</td>\n",
       "      <td>주영하</td>\n",
       "      <td>The Cultural History of Books at Jangseogak Ar...</td>\n",
       "      <td>東洋學</td>\n",
       "      <td>단국대학교 동양학연구원</td>\n",
       "      <td>2021</td>\n",
       "      <td>-999999</td>\n",
       "    </tr>\n",
       "  </tbody>\n",
       "</table>\n",
       "</div>"
      ],
      "text/plain": [
       "          Index                                              Title  \\\n",
       "45   A107301048                                공유와 협업의 글쓰기 플랫폼, 위키   \n",
       "110  A107300658  한국학의 위상학: 한국에서 열린 최초의 한국학 국제학술회의(‘한국의 전통과 변천’,...   \n",
       "192  A107291714             1930년대 한국 관련 서양어 문헌 목록의 편찬 경위와 분류체계 분석   \n",
       "227  A107300769                  20세기 초 하와이 이민사회의 ｢혹부리 영감｣ 각색공연 고찰   \n",
       "301  A107300753                     17세기 일본 간행 조선본 근사록집해(近思錄集解) 연구   \n",
       "303  A107300691                  검열과 개작: 채동선 작곡･정지용 시의 개작 양상을 중심으로   \n",
       "306  A107300615  수렴청정(垂簾聽政)과 국왕친정(國王親政) 그 사이: 청년 성종의 정치리더십에 투영된...   \n",
       "308  A107300650  개화기 영한대역사전 연구: J. W. Hodge, Corean Words and P...   \n",
       "320  A107300534                          일제강점기 금속제 신선로의 제작양상과 소비문화   \n",
       "372  A107300712                  베트남전 위문공연에 관한 젠더론적 연구Ⅱ(1964‒1973)   \n",
       "392  A107300616                                  한글소리 이름짓기의 비판적 고찰   \n",
       "970  A107271108                         한국학중앙연구원 장서각의 연구 현황과 향후 과제   \n",
       "\n",
       "                                              Abstract        Authors  \\\n",
       "45                                                 NaN  김지선;;장문석;;유인태   \n",
       "110                                                NaN            옥창준   \n",
       "192                                                NaN            배민재   \n",
       "227                                                NaN            최희영   \n",
       "301                                                NaN            이유리   \n",
       "303                                                NaN            강영미   \n",
       "306                                                NaN            윤대식   \n",
       "308                                                NaN            정동경   \n",
       "320  Before modern times, the main role of the Sins...            김세린   \n",
       "372                                                NaN            이진아   \n",
       "392                                                NaN            권익기   \n",
       "970                                                NaN            주영하   \n",
       "\n",
       "                                              Keywords Journal  \\\n",
       "45   Mediawiki,디지털리터러시,Wiki,Research,Data Literacy,...   한국학연구   \n",
       "110  Asiatic Research Center,Tradition and Change i...     한국학   \n",
       "192  Korean Studies.,문헌 목록,Bibliography,Royal Asiat...   한국학논총   \n",
       "227  혹부리 영감,Diasporic culture,민족 정체성,20세기 초 하와이,Eth...     한국학   \n",
       "301  Imjin War,蓬左文庫,임진왜란,Jinsiliujijie,林羅山,한일서적교류사,...     한국학   \n",
       "303  Adaption,반공이데올로기,납･월북 시인,정지용,Poet abducted to ...     한국학   \n",
       "306  Queen Jeonghui,성종,정희왕후,leadership,수렴청정,공적후원,re...     한국학   \n",
       "308  의미 기술,the selection of headwords,Corean Words ...     한국학   \n",
       "320  The Joseon Craftwork Manufactory,조선미술품제작소,신선로,...     한국학   \n",
       "372  위문공연,consolation performance,ethnic/gender per...     한국학   \n",
       "392  Hangeul‒Sori Naming,한글소리 이름짓기,작명,Naming,Hangeu...     한국학   \n",
       "970  The Cultural History of Books at Jangseogak Ar...     東洋學   \n",
       "\n",
       "             Publisher  PubDate  CitationCount  \n",
       "45        인하대학교 한국학연구소     2021        -999999  \n",
       "110  한국학중앙연구원 한국학중앙연구원     2021        -999999  \n",
       "192       국민대학교 한국학연구소     2021        -999999  \n",
       "227  한국학중앙연구원 한국학중앙연구원     2021        -999999  \n",
       "301  한국학중앙연구원 한국학중앙연구원     2021        -999999  \n",
       "303  한국학중앙연구원 한국학중앙연구원     2021        -999999  \n",
       "306  한국학중앙연구원 한국학중앙연구원     2021        -999999  \n",
       "308  한국학중앙연구원 한국학중앙연구원     2021        -999999  \n",
       "320  한국학중앙연구원 한국학중앙연구원     2021        -999999  \n",
       "372  한국학중앙연구원 한국학중앙연구원     2021        -999999  \n",
       "392  한국학중앙연구원 한국학중앙연구원     2021        -999999  \n",
       "970       단국대학교 동양학연구원     2021        -999999  "
      ]
     },
     "execution_count": 3,
     "metadata": {},
     "output_type": "execute_result"
    }
   ],
   "source": [
    "paper[paper['PubDate']==2021]"
   ]
  },
  {
   "cell_type": "markdown",
   "metadata": {},
   "source": [
    "### 전체 연도 set"
   ]
  },
  {
   "cell_type": "code",
   "execution_count": 4,
   "metadata": {},
   "outputs": [
    {
     "name": "stdout",
     "output_type": "stream",
     "text": [
      "[2002, 2003, 2004, 2005, 2006, 2007, 2008, 2009, 2010, 2011, 2012, 2013, 2014, 2015, 2016, 2017, 2018, 2019, 2020, 2021]\n"
     ]
    }
   ],
   "source": [
    "year = list(set(paper['PubDate'].values))\n",
    "print(year)"
   ]
  },
  {
   "cell_type": "markdown",
   "metadata": {},
   "source": [
    "### 연도별 논문 수 count"
   ]
  },
  {
   "cell_type": "code",
   "execution_count": 5,
   "metadata": {},
   "outputs": [
    {
     "data": {
      "text/plain": [
       "2014    92\n",
       "2015    88\n",
       "2009    66\n",
       "2013    59\n",
       "2018    58\n",
       "2008    58\n",
       "2016    58\n",
       "2020    58\n",
       "2012    57\n",
       "2010    54\n",
       "2007    53\n",
       "2011    53\n",
       "2019    52\n",
       "2017    48\n",
       "2005    47\n",
       "2006    46\n",
       "2004    31\n",
       "2021    12\n",
       "2003     3\n",
       "2002     3\n",
       "Name: PubDate, dtype: int64"
      ]
     },
     "execution_count": 5,
     "metadata": {},
     "output_type": "execute_result"
    }
   ],
   "source": [
    "paper['PubDate'].value_counts()"
   ]
  },
  {
   "cell_type": "markdown",
   "metadata": {},
   "source": [
    "### 연도별 논문수 barplot 그리기"
   ]
  },
  {
   "cell_type": "code",
   "execution_count": 6,
   "metadata": {},
   "outputs": [
    {
     "data": {
      "text/plain": [
       "<matplotlib.axes._subplots.AxesSubplot at 0x2196c22c940>"
      ]
     },
     "execution_count": 6,
     "metadata": {},
     "output_type": "execute_result"
    },
    {
     "data": {
      "image/png": "[encoded data removed]",
      "text/plain": [
       "<Figure size 720x288 with 1 Axes>"
      ]
     },
     "metadata": {
      "needs_background": "light"
     },
     "output_type": "display_data"
    }
   ],
   "source": [
    "figure,((ax1)) = plt.subplots(nrows=1, ncols=1)\n",
    "figure.set_size_inches(10, 4)\n",
    "sns.countplot(paper['PubDate'])"
   ]
  },
  {
   "cell_type": "markdown",
   "metadata": {},
   "source": [
    "### 그래프 x,y 축 바꾸기, 색상 변경"
   ]
  },
  {
   "cell_type": "code",
   "execution_count": 7,
   "metadata": {},
   "outputs": [
    {
     "data": {
      "text/plain": [
       "<matplotlib.axes._subplots.AxesSubplot at 0x2196c2dc4e0>"
      ]
     },
     "execution_count": 7,
     "metadata": {},
     "output_type": "execute_result"
    },
    {
     "data": {
      "image/png": "[encoded data removed]",
      "text/plain": [
       "<Figure size 720x288 with 1 Axes>"
      ]
     },
     "metadata": {
      "needs_background": "light"
     },
     "output_type": "display_data"
    }
   ],
   "source": [
    "figure,((ax1)) = plt.subplots(nrows=1, ncols=1)\n",
    "figure.set_size_inches(10, 4)\n",
    "sns.countplot(y = paper['PubDate'], color = 'lightblue')"
   ]
  },
  {
   "cell_type": "markdown",
   "metadata": {},
   "source": [
    "### 연도, 키워드 set list 만들기"
   ]
  },
  {
   "cell_type": "code",
   "execution_count": 8,
   "metadata": {},
   "outputs": [],
   "source": [
    "keyword_year = []\n",
    "for i in range(len(paper)):\n",
    "    PubDate = paper['PubDate'][i]\n",
    "    if type(paper['Keywords'][i]) != float:\n",
    "        Keywords = paper['Keywords'][i].split(',')\n",
    "        keyword_year.append([PubDate, Keywords])"
   ]
  },
  {
   "cell_type": "code",
   "execution_count": 9,
   "metadata": {},
   "outputs": [
    {
     "data": {
      "text/plain": [
       "[[2015,\n",
       "  ['fascism',\n",
       "   'female dandy',\n",
       "   'nation',\n",
       "   'border thinking',\n",
       "   'locality',\n",
       "   '문화번역',\n",
       "   'culture translation',\n",
       "   '국민문학',\n",
       "   '경계 사유',\n",
       "   '여성댄디',\n",
       "   '로컬리티',\n",
       "   '파시즘']],\n",
       " [2015,\n",
       "  ['쾌 정서',\n",
       "   '신민요',\n",
       "   '文?情?',\n",
       "   '不快情?',\n",
       "   '불쾌 정서',\n",
       "   '문학정서',\n",
       "   '일제강점기',\n",
       "   '日帝强占期',\n",
       "   '新民?',\n",
       "   '快情?']],\n",
       " [2015,\n",
       "  ['고려의 세계관',\n",
       "   '신라의 세계관',\n",
       "   '高麗の世界?',\n",
       "   '고구려의 세계관',\n",
       "   '소중화',\n",
       "   '통일신라',\n",
       "   '新羅の世界?',\n",
       "   '주변 諸國의 세계관',\n",
       "   '周?諸?の世界?',\n",
       "   '小中華',\n",
       "   '統一新羅',\n",
       "   '高句麗の世界?']]]"
      ]
     },
     "execution_count": 9,
     "metadata": {},
     "output_type": "execute_result"
    }
   ],
   "source": [
    "keyword_year[:3]"
   ]
  },
  {
   "cell_type": "markdown",
   "metadata": {},
   "source": [
    "### 전체 키워드 set 만들기"
   ]
  },
  {
   "cell_type": "code",
   "execution_count": 10,
   "metadata": {},
   "outputs": [],
   "source": [
    "keyword_all=[]\n",
    "for i in keyword_year:\n",
    "    for j in i[1]:\n",
    "        keyword_all.append(j)"
   ]
  },
  {
   "cell_type": "code",
   "execution_count": 11,
   "metadata": {},
   "outputs": [
    {
     "name": "stdout",
     "output_type": "stream",
     "text": [
      "8820\n"
     ]
    },
    {
     "data": {
      "text/plain": [
       "['fascism',\n",
       " 'female dandy',\n",
       " 'nation',\n",
       " 'border thinking',\n",
       " 'locality',\n",
       " '문화번역',\n",
       " 'culture translation',\n",
       " '국민문학',\n",
       " '경계 사유',\n",
       " '여성댄디']"
      ]
     },
     "execution_count": 11,
     "metadata": {},
     "output_type": "execute_result"
    }
   ],
   "source": [
    "print(len(keyword_all))\n",
    "keyword_all[:10]"
   ]
  },
  {
   "cell_type": "markdown",
   "metadata": {},
   "source": [
    "### 키워드 count"
   ]
  },
  {
   "cell_type": "code",
   "execution_count": 12,
   "metadata": {},
   "outputs": [
    {
     "name": "stdout",
     "output_type": "stream",
     "text": [
      "Requirement already satisfied: nltk in c:\\users\\user\\anaconda3\\lib\\site-packages (3.4)\n",
      "Requirement already satisfied: six in c:\\users\\user\\anaconda3\\lib\\site-packages (from nltk) (1.12.0)\n",
      "Requirement already satisfied: singledispatch in c:\\users\\user\\anaconda3\\lib\\site-packages (from nltk) (3.4.0.3)\n"
     ]
    }
   ],
   "source": [
    "!pip install nltk"
   ]
  },
  {
   "cell_type": "code",
   "execution_count": 13,
   "metadata": {},
   "outputs": [
    {
     "data": {
      "text/plain": [
       "[('한국학', 44),\n",
       " ('Korean Studies', 26),\n",
       " ('Korean studies', 11),\n",
       " ('한국학(Korean Studies)', 9),\n",
       " ('냉전', 6),\n",
       " ('Koreanology', 6),\n",
       " ('교육', 5),\n",
       " ('한류', 5),\n",
       " ('Cold War', 5),\n",
       " ('북한(North Korea)', 5),\n",
       " ('섹슈얼리티(sexuality)', 5),\n",
       " ('역사', 4),\n",
       " ('local community', 4),\n",
       " ('지역공동체', 4),\n",
       " ('Kim', 4),\n",
       " ('한국전쟁', 4),\n",
       " ('검열', 4),\n",
       " ('최인훈', 4),\n",
       " ('성리학', 4),\n",
       " ('한국어', 4),\n",
       " ('해외 한국학', 4),\n",
       " ('삼국유사', 4),\n",
       " ('Korean War', 4),\n",
       " ('대한제국', 4),\n",
       " ('영조(King Yeongjo)', 4),\n",
       " ('맥아더(Douglas MacArthur)', 4),\n",
       " ('/SUP&gt', 4),\n",
       " ('3·1 운동(March 1&lt', 4),\n",
       " ('SUP&gt', 4),\n",
       " ('일제강점기', 3),\n",
       " ('자본주의', 3),\n",
       " ('세계화', 3),\n",
       " ('애도', 3),\n",
       " ('박정희', 3),\n",
       " ('진보', 3),\n",
       " ('progress', 3),\n",
       " ('감성', 3),\n",
       " ('shame', 3),\n",
       " ('존재', 3),\n",
       " ('Neo-Confucianism', 3),\n",
       " ('정의', 3),\n",
       " ('제국주의', 3),\n",
       " ('유인석', 3),\n",
       " ('김지하', 3),\n",
       " ('universality', 3),\n",
       " ('Christianity', 3),\n",
       " ('기독교', 3),\n",
       " ('근대성', 3),\n",
       " ('image', 3),\n",
       " ('history', 3)]"
      ]
     },
     "execution_count": 13,
     "metadata": {},
     "output_type": "execute_result"
    }
   ],
   "source": [
    "import nltk\n",
    "\n",
    "ff=0\n",
    "tokens_ko=[]\n",
    "\n",
    "stop_words = ['&lt']\n",
    "\n",
    "for i in keyword_all:\n",
    "    if i not in stop_words:\n",
    "        tokens_ko.append(i)\n",
    "        \n",
    "ko = nltk.Text(tokens_ko)\n",
    "ko.vocab().most_common(50)"
   ]
  },
  {
   "cell_type": "markdown",
   "metadata": {},
   "source": [
    "### 영어 대문자 -> 소문자 ( .lower())"
   ]
  },
  {
   "cell_type": "code",
   "execution_count": 14,
   "metadata": {},
   "outputs": [],
   "source": [
    "keyword_all=[]\n",
    "for i in keyword_year:\n",
    "    for j in i[1]:\n",
    "        j = j.lower()\n",
    "        keyword_all.append(j)"
   ]
  },
  {
   "cell_type": "code",
   "execution_count": 15,
   "metadata": {},
   "outputs": [
    {
     "data": {
      "text/plain": [
       "[('한국학', 44),\n",
       " ('korean studies', 38),\n",
       " ('한국학(korean studies)', 9),\n",
       " ('냉전', 6),\n",
       " ('koreanology', 6),\n",
       " ('korean language education', 6),\n",
       " ('korean war', 5),\n",
       " ('교육', 5),\n",
       " ('curriculum', 5),\n",
       " ('한류', 5),\n",
       " ('cold war', 5),\n",
       " ('민족주의(nationalism)', 5),\n",
       " ('북한(north korea)', 5),\n",
       " ('섹슈얼리티(sexuality)', 5),\n",
       " ('역사', 4),\n",
       " ('local community', 4),\n",
       " ('지역공동체', 4),\n",
       " ('kim', 4),\n",
       " ('한국전쟁', 4),\n",
       " ('censorship', 4),\n",
       " ('검열', 4),\n",
       " ('최인훈', 4),\n",
       " ('modernity', 4),\n",
       " ('history', 4),\n",
       " ('성리학', 4),\n",
       " ('한국어', 4),\n",
       " ('해외 한국학', 4),\n",
       " ('삼국유사', 4),\n",
       " ('translation', 4),\n",
       " ('대한제국', 4),\n",
       " ('천주교(catholicism)', 4),\n",
       " ('영조(king yeongjo)', 4),\n",
       " ('맥아더(douglas macarthur)', 4),\n",
       " ('한국전쟁(korean war)', 4),\n",
       " ('/sup&gt', 4),\n",
       " ('3·1 운동(march 1&lt', 4),\n",
       " ('sup&gt', 4),\n",
       " ('식민주의(colonialism)', 4),\n",
       " ('주권(sovereignty)', 4),\n",
       " ('locality', 3),\n",
       " ('일제강점기', 3),\n",
       " ('poetry', 3),\n",
       " ('capitalism', 3),\n",
       " ('자본주의', 3),\n",
       " ('globalization', 3),\n",
       " ('세계화', 3),\n",
       " ('애도', 3),\n",
       " ('mourning', 3),\n",
       " ('박정희', 3),\n",
       " ('진보', 3)]"
      ]
     },
     "execution_count": 15,
     "metadata": {},
     "output_type": "execute_result"
    }
   ],
   "source": [
    "import nltk\n",
    "\n",
    "ff=0\n",
    "tokens_ko=[]\n",
    "\n",
    "stop_words = ['&lt']\n",
    "\n",
    "for i in keyword_all:\n",
    "    if i not in stop_words:\n",
    "        tokens_ko.append(i)\n",
    "        \n",
    "ko = nltk.Text(tokens_ko)\n",
    "ko.vocab().most_common(50)"
   ]
  },
  {
   "cell_type": "markdown",
   "metadata": {},
   "source": [
    "### 같은 의미 단어 통일"
   ]
  },
  {
   "cell_type": "code",
   "execution_count": 16,
   "metadata": {},
   "outputs": [],
   "source": [
    "same = [['한국학', 'korean studies', '한국학(korean studies)'], ['냉전', 'cold war']]"
   ]
  },
  {
   "cell_type": "code",
   "execution_count": 17,
   "metadata": {},
   "outputs": [],
   "source": [
    "keyword_all=[]\n",
    "for i in keyword_year:\n",
    "    for j in i[1]:\n",
    "        j = j.lower()\n",
    "        for s in same:\n",
    "            for ss in s[1:]:\n",
    "                if j == ss:\n",
    "                    j = s[0]\n",
    "        keyword_all.append(j)"
   ]
  },
  {
   "cell_type": "code",
   "execution_count": 18,
   "metadata": {},
   "outputs": [
    {
     "data": {
      "text/plain": [
       "[('한국학', 91),\n",
       " ('냉전', 11),\n",
       " ('koreanology', 6),\n",
       " ('korean language education', 6),\n",
       " ('korean war', 5),\n",
       " ('교육', 5),\n",
       " ('curriculum', 5),\n",
       " ('한류', 5),\n",
       " ('민족주의(nationalism)', 5),\n",
       " ('북한(north korea)', 5),\n",
       " ('섹슈얼리티(sexuality)', 5),\n",
       " ('역사', 4),\n",
       " ('local community', 4),\n",
       " ('지역공동체', 4),\n",
       " ('kim', 4),\n",
       " ('한국전쟁', 4),\n",
       " ('censorship', 4),\n",
       " ('검열', 4),\n",
       " ('최인훈', 4),\n",
       " ('modernity', 4),\n",
       " ('history', 4),\n",
       " ('성리학', 4),\n",
       " ('한국어', 4),\n",
       " ('해외 한국학', 4),\n",
       " ('삼국유사', 4),\n",
       " ('translation', 4),\n",
       " ('대한제국', 4),\n",
       " ('천주교(catholicism)', 4),\n",
       " ('영조(king yeongjo)', 4),\n",
       " ('맥아더(douglas macarthur)', 4),\n",
       " ('한국전쟁(korean war)', 4),\n",
       " ('/sup&gt', 4),\n",
       " ('3·1 운동(march 1&lt', 4),\n",
       " ('sup&gt', 4),\n",
       " ('식민주의(colonialism)', 4),\n",
       " ('주권(sovereignty)', 4),\n",
       " ('locality', 3),\n",
       " ('일제강점기', 3),\n",
       " ('poetry', 3),\n",
       " ('capitalism', 3),\n",
       " ('자본주의', 3),\n",
       " ('globalization', 3),\n",
       " ('세계화', 3),\n",
       " ('애도', 3),\n",
       " ('mourning', 3),\n",
       " ('박정희', 3),\n",
       " ('진보', 3),\n",
       " ('progress', 3),\n",
       " ('감성', 3),\n",
       " ('shame', 3)]"
      ]
     },
     "execution_count": 18,
     "metadata": {},
     "output_type": "execute_result"
    }
   ],
   "source": [
    "import nltk\n",
    "\n",
    "ff=0\n",
    "tokens_ko=[]\n",
    "\n",
    "stop_words = ['&lt']\n",
    "\n",
    "for i in keyword_all:\n",
    "    if i not in stop_words:\n",
    "        tokens_ko.append(i)\n",
    "        \n",
    "ko = nltk.Text(tokens_ko)\n",
    "ko.vocab().most_common(50)"
   ]
  },
  {
   "cell_type": "markdown",
   "metadata": {},
   "source": [
    "### wordcloud 그리기 (글씨크기는 키워드 빈도수에 비례)"
   ]
  },
  {
   "cell_type": "code",
   "execution_count": 19,
   "metadata": {},
   "outputs": [
    {
     "name": "stdout",
     "output_type": "stream",
     "text": [
      "Requirement already satisfied: wordcloud in c:\\users\\user\\anaconda3\\lib\\site-packages (1.5.0)\n",
      "Requirement already satisfied: pillow in c:\\users\\user\\anaconda3\\lib\\site-packages (from wordcloud) (5.4.1)\n",
      "Requirement already satisfied: numpy>=1.6.1 in c:\\users\\user\\anaconda3\\lib\\site-packages (from wordcloud) (1.16.2)\n"
     ]
    }
   ],
   "source": [
    "!pip install wordcloud"
   ]
  },
  {
   "cell_type": "code",
   "execution_count": 29,
   "metadata": {},
   "outputs": [
    {
     "data": {
      "image/png": "[encoded data removed]",
      "text/plain": [
       "<Figure size 864x576 with 1 Axes>"
      ]
     },
     "metadata": {
      "needs_background": "light"
     },
     "output_type": "display_data"
    }
   ],
   "source": [
    "from wordcloud import WordCloud\n",
    "import matplotlib.pyplot as plt\n",
    "\n",
    "font_loc = 'C:\\\\windows\\\\fonts\\\\malgun.ttf'\n",
    "font_name = fm.FontProperties(fname=font_loc).get_name()\n",
    "plt.rc('font', family=font_name)\n",
    "\n",
    "data=ko.vocab().most_common(500)\n",
    "tmp_data=dict(data)\n",
    "wordcloud=WordCloud(font_path=font_path, relative_scaling=0.2, background_color=\"white\").generate_from_frequencies(tmp_data)\n",
    "plt.figure(figsize=(12,8))\n",
    "plt.imshow(wordcloud)\n",
    "plt.axis(\"off\")\n",
    "plt.show()"
   ]
  },
  {
   "cell_type": "code",
   "execution_count": 25,
   "metadata": {},
   "outputs": [
    {
     "data": {
      "text/plain": [
       "[('한국학', 91),\n",
       " ('냉전', 11),\n",
       " ('koreanology', 6),\n",
       " ('korean language education', 6),\n",
       " ('korean war', 5),\n",
       " ('교육', 5),\n",
       " ('curriculum', 5),\n",
       " ('한류', 5),\n",
       " ('민족주의(nationalism)', 5),\n",
       " ('북한(north korea)', 5),\n",
       " ('섹슈얼리티(sexuality)', 5),\n",
       " ('역사', 4),\n",
       " ('local community', 4),\n",
       " ('지역공동체', 4),\n",
       " ('kim', 4)]"
      ]
     },
     "execution_count": 25,
     "metadata": {},
     "output_type": "execute_result"
    }
   ],
   "source": [
    "ko.vocab().most_common(15)"
   ]
  },
  {
   "cell_type": "code",
   "execution_count": 30,
   "metadata": {},
   "outputs": [
    {
     "data": {
      "image/png": "[encoded data removed]",
      "text/plain": [
       "<Figure size 432x288 with 1 Axes>"
      ]
     },
     "metadata": {
      "needs_background": "light"
     },
     "output_type": "display_data"
    }
   ],
   "source": [
    "ko.plot(20)"
   ]
  },
  {
   "cell_type": "markdown",
   "metadata": {},
   "source": [
    "### 키워드 동시출현 빈도"
   ]
  },
  {
   "cell_type": "code",
   "execution_count": 31,
   "metadata": {},
   "outputs": [
    {
     "data": {
      "text/plain": [
       "8171"
      ]
     },
     "execution_count": 31,
     "metadata": {},
     "output_type": "execute_result"
    }
   ],
   "source": [
    "dict = list(set(keyword_all))\n",
    "len(dict)"
   ]
  },
  {
   "cell_type": "code",
   "execution_count": 32,
   "metadata": {},
   "outputs": [],
   "source": [
    "co_count = []\n",
    "n = 0\n",
    "for i in dict:\n",
    "    t = 0\n",
    "    for j in dict:\n",
    "        if n<t:\n",
    "            co_count.append([i,j,0])\n",
    "        t+=1\n",
    "    n+=1"
   ]
  },
  {
   "cell_type": "code",
   "execution_count": 33,
   "metadata": {},
   "outputs": [
    {
     "data": {
      "text/plain": [
       "[['퇴계학(toegye school)', '탁재(濁滓)', 0],\n",
       " ['퇴계학(toegye school)', '공동체성(communality)', 0],\n",
       " ['퇴계학(toegye school)', '심재(simjae)', 0],\n",
       " ['퇴계학(toegye school)', '영화관(movie theatre)', 0],\n",
       " ['퇴계학(toegye school)', '防御', 0],\n",
       " ['퇴계학(toegye school)', '內省(naes?ng)', 0],\n",
       " ['퇴계학(toegye school)', '템플스터디', 0],\n",
       " ['퇴계학(toegye school)', 'tradition and change in korea', 0],\n",
       " ['퇴계학(toegye school)', 'palmido intelligence operation', 0],\n",
       " ['퇴계학(toegye school)', '지역공동체(local community)', 0]]"
      ]
     },
     "execution_count": 33,
     "metadata": {},
     "output_type": "execute_result"
    }
   ],
   "source": [
    "co_count[:10]"
   ]
  },
  {
   "cell_type": "code",
   "execution_count": 34,
   "metadata": {},
   "outputs": [
    {
     "name": "stdout",
     "output_type": "stream",
     "text": [
      "33378535\n"
     ]
    }
   ],
   "source": [
    "print(len(co_count))"
   ]
  },
  {
   "cell_type": "code",
   "execution_count": 35,
   "metadata": {},
   "outputs": [
    {
     "name": "stdout",
     "output_type": "stream",
     "text": [
      "33378535\n"
     ]
    }
   ],
   "source": [
    "n = 0\n",
    "\n",
    "for i in range(8171):\n",
    "    for j in range(8171-i-1):\n",
    "        n+=1\n",
    "    \n",
    "print(n)"
   ]
  },
  {
   "cell_type": "code",
   "execution_count": 36,
   "metadata": {},
   "outputs": [
    {
     "data": {
      "text/plain": [
       "[('한국학', 91),\n",
       " ('냉전', 11),\n",
       " ('koreanology', 6),\n",
       " ('korean language education', 6),\n",
       " ('korean war', 5),\n",
       " ('교육', 5),\n",
       " ('curriculum', 5),\n",
       " ('한류', 5),\n",
       " ('민족주의(nationalism)', 5),\n",
       " ('북한(north korea)', 5)]"
      ]
     },
     "execution_count": 36,
     "metadata": {},
     "output_type": "execute_result"
    }
   ],
   "source": [
    "ko.vocab().most_common()[:10]"
   ]
  },
  {
   "cell_type": "code",
   "execution_count": 37,
   "metadata": {},
   "outputs": [],
   "source": [
    "most_words = ko.vocab().most_common()\n",
    "\n",
    "keywords_set = []\n",
    "\n",
    "for i in most_words:\n",
    "    if i[1]>=2:\n",
    "        keywords_set.append(i[0])"
   ]
  },
  {
   "cell_type": "code",
   "execution_count": 38,
   "metadata": {},
   "outputs": [
    {
     "data": {
      "text/plain": [
       "393"
      ]
     },
     "execution_count": 38,
     "metadata": {},
     "output_type": "execute_result"
    }
   ],
   "source": [
    "len(keywords_set)"
   ]
  },
  {
   "cell_type": "code",
   "execution_count": 39,
   "metadata": {},
   "outputs": [],
   "source": [
    "dict = keywords_set\n",
    "\n",
    "co_count = []\n",
    "n = 0\n",
    "for i in dict:\n",
    "    t = 0\n",
    "    for j in dict:\n",
    "        if n<t:\n",
    "            co_count.append([i,j,0])\n",
    "        t+=1\n",
    "    n+=1"
   ]
  },
  {
   "cell_type": "code",
   "execution_count": 40,
   "metadata": {},
   "outputs": [
    {
     "name": "stdout",
     "output_type": "stream",
     "text": [
      "77028\n"
     ]
    }
   ],
   "source": [
    "print(len(co_count))"
   ]
  },
  {
   "cell_type": "code",
   "execution_count": 41,
   "metadata": {},
   "outputs": [
    {
     "name": "stdout",
     "output_type": "stream",
     "text": [
      "1.3 %\n",
      "2.6 %\n",
      "3.89 %\n",
      "5.19 %\n",
      "6.49 %\n",
      "7.79 %\n",
      "9.09 %\n",
      "10.39 %\n",
      "11.68 %\n",
      "12.98 %\n",
      "14.28 %\n",
      "15.58 %\n",
      "16.88 %\n",
      "18.18 %\n",
      "19.47 %\n",
      "20.77 %\n",
      "22.07 %\n",
      "23.37 %\n",
      "24.67 %\n",
      "25.96 %\n",
      "27.26 %\n",
      "28.56 %\n",
      "29.86 %\n",
      "31.16 %\n",
      "32.46 %\n",
      "33.75 %\n",
      "35.05 %\n",
      "36.35 %\n",
      "37.65 %\n",
      "38.95 %\n",
      "40.25 %\n",
      "41.54 %\n",
      "42.84 %\n",
      "44.14 %\n",
      "45.44 %\n",
      "46.74 %\n",
      "48.03 %\n",
      "49.33 %\n",
      "50.63 %\n",
      "51.93 %\n",
      "53.23 %\n",
      "54.53 %\n",
      "55.82 %\n",
      "57.12 %\n",
      "58.42 %\n",
      "59.72 %\n",
      "61.02 %\n",
      "62.32 %\n",
      "63.61 %\n",
      "64.91 %\n",
      "66.21 %\n",
      "67.51 %\n",
      "68.81 %\n",
      "70.1 %\n",
      "71.4 %\n",
      "72.7 %\n",
      "74.0 %\n",
      "75.3 %\n",
      "76.6 %\n",
      "77.89 %\n",
      "79.19 %\n",
      "80.49 %\n",
      "81.79 %\n",
      "83.09 %\n",
      "84.38 %\n",
      "85.68 %\n",
      "86.98 %\n",
      "88.28 %\n",
      "89.58 %\n",
      "90.88 %\n",
      "92.17 %\n",
      "93.47 %\n",
      "94.77 %\n",
      "96.07 %\n",
      "97.37 %\n",
      "98.67 %\n",
      "99.96 %\n",
      "time : 14.232577085494995\n"
     ]
    }
   ],
   "source": [
    "import time\n",
    "start = time.time()  # 시작 시간 저장\n",
    "\n",
    "n = 0\n",
    "\n",
    "for i in co_count:\n",
    "    for j in keyword_year:\n",
    "        if i[0] in j[1] and i[1] in j[1]:\n",
    "            co_count[n][2] +=1\n",
    "    n+=1\n",
    "    if n%1000 == 0:\n",
    "        print(round((n/len(co_count))*100,2), '%')\n",
    "\n",
    "print(\"time :\", round(time.time() - start,2))  # 현재시각 - 시작시간 = 실행 시간"
   ]
  },
  {
   "cell_type": "code",
   "execution_count": 52,
   "metadata": {},
   "outputs": [
    {
     "data": {
      "text/plain": [
       "[['한국학', '냉전', 3],\n",
       " ['한국학', 'koreanology', 0],\n",
       " ['한국학', 'korean language education', 0],\n",
       " ['한국학', 'korean war', 0],\n",
       " ['한국학', '교육', 0],\n",
       " ['한국학', 'curriculum', 1],\n",
       " ['한국학', '한류', 3],\n",
       " ['한국학', '민족주의(nationalism)', 0],\n",
       " ['한국학', '북한(north korea)', 0],\n",
       " ['한국학', '섹슈얼리티(sexuality)', 0],\n",
       " ['한국학', '역사', 1],\n",
       " ['한국학', 'local community', 0],\n",
       " ['한국학', '지역공동체', 0],\n",
       " ['한국학', 'kim', 0],\n",
       " ['한국학', '한국전쟁', 0],\n",
       " ['한국학', 'censorship', 0],\n",
       " ['한국학', '검열', 0],\n",
       " ['한국학', '최인훈', 0],\n",
       " ['한국학', 'modernity', 0],\n",
       " ['한국학', 'history', 1]]"
      ]
     },
     "execution_count": 52,
     "metadata": {},
     "output_type": "execute_result"
    }
   ],
   "source": [
    "co_count[:20]"
   ]
  },
  {
   "cell_type": "markdown",
   "metadata": {},
   "source": [
    "### node, edge csv 생성"
   ]
  },
  {
   "cell_type": "code",
   "execution_count": 50,
   "metadata": {},
   "outputs": [
    {
     "name": "stdout",
     "output_type": "stream",
     "text": [
      "[[0, '한국학'], [1, '냉전'], [2, 'koreanology'], [3, 'korean language education'], [4, 'korean war']]\n"
     ]
    }
   ],
   "source": [
    "node_list = []\n",
    "\n",
    "n = 0\n",
    "\n",
    "for i in dict:\n",
    "    node_list.append([n, i])\n",
    "    n+=1\n",
    "    \n",
    "print(node_list[:5])"
   ]
  },
  {
   "cell_type": "code",
   "execution_count": 51,
   "metadata": {},
   "outputs": [],
   "source": [
    "f = open(\"node.csv\", 'w')\n",
    "\n",
    "f.write(\"ID\")\n",
    "f.write(\",\")\n",
    "f.write(\"label\")\n",
    "f.write(\"\\n\")\n",
    "\n",
    "for i in node_list:\n",
    "    f.write(str(i[0]))\n",
    "    f.write(\",\")\n",
    "    f.write(i[1])\n",
    "    f.write(\"\\n\")\n",
    "\n",
    "f.close()"
   ]
  },
  {
   "cell_type": "markdown",
   "metadata": {},
   "source": [
    "### 값 치환"
   ]
  },
  {
   "cell_type": "code",
   "execution_count": 55,
   "metadata": {},
   "outputs": [],
   "source": [
    "edge_list = []\n",
    "for i in co_count:\n",
    "    if i[2]>=1:\n",
    "        for node in node_list:\n",
    "            if node[1]==i[0]:\n",
    "                source = node[0]\n",
    "            if node[1]==i[1]:\n",
    "                target = node[0]\n",
    "        edge_list.append([source, target, i[2]])"
   ]
  },
  {
   "cell_type": "code",
   "execution_count": 56,
   "metadata": {},
   "outputs": [
    {
     "data": {
      "text/plain": [
       "[[0, 1, 3],\n",
       " [0, 6, 1],\n",
       " [0, 7, 3],\n",
       " [0, 11, 1],\n",
       " [0, 20, 1],\n",
       " [0, 22, 3],\n",
       " [0, 23, 1],\n",
       " [0, 24, 1],\n",
       " [0, 41, 1],\n",
       " [0, 42, 1],\n",
       " [0, 48, 1],\n",
       " [0, 52, 1],\n",
       " [0, 58, 1],\n",
       " [0, 61, 1],\n",
       " [0, 63, 1],\n",
       " [0, 67, 2],\n",
       " [0, 69, 1],\n",
       " [0, 70, 1],\n",
       " [0, 72, 1],\n",
       " [0, 76, 1],\n",
       " [0, 77, 1],\n",
       " [0, 107, 1],\n",
       " [0, 120, 1],\n",
       " [0, 121, 1],\n",
       " [0, 128, 1],\n",
       " [0, 143, 1],\n",
       " [0, 144, 1],\n",
       " [0, 145, 1],\n",
       " [0, 171, 1],\n",
       " [0, 172, 1],\n",
       " [0, 173, 1],\n",
       " [0, 177, 1],\n",
       " [0, 187, 2],\n",
       " [0, 188, 2],\n",
       " [0, 190, 2],\n",
       " [0, 191, 1],\n",
       " [0, 192, 1],\n",
       " [0, 193, 1],\n",
       " [0, 194, 2],\n",
       " [0, 196, 1],\n",
       " [0, 197, 2],\n",
       " [0, 198, 1],\n",
       " [0, 203, 1],\n",
       " [0, 206, 1],\n",
       " [0, 207, 2],\n",
       " [0, 208, 2],\n",
       " [0, 210, 1],\n",
       " [0, 214, 1],\n",
       " [0, 221, 1],\n",
       " [0, 222, 1],\n",
       " [0, 226, 1],\n",
       " [0, 227, 1],\n",
       " [0, 228, 1],\n",
       " [0, 231, 1],\n",
       " [0, 232, 1],\n",
       " [0, 235, 1],\n",
       " [0, 236, 1],\n",
       " [1, 58, 1],\n",
       " [1, 63, 1],\n",
       " [1, 76, 1],\n",
       " [1, 116, 1],\n",
       " [1, 171, 1],\n",
       " [1, 172, 1],\n",
       " [1, 173, 1],\n",
       " [1, 188, 1],\n",
       " [1, 190, 1],\n",
       " [1, 210, 1],\n",
       " [1, 226, 2],\n",
       " [1, 227, 1],\n",
       " [1, 228, 2],\n",
       " [1, 231, 1],\n",
       " [1, 274, 1],\n",
       " [5, 21, 1],\n",
       " [5, 54, 2],\n",
       " [5, 87, 1],\n",
       " [5, 132, 1],\n",
       " [5, 133, 2],\n",
       " [5, 169, 1],\n",
       " [5, 237, 1],\n",
       " [5, 276, 1],\n",
       " [7, 22, 1],\n",
       " [7, 24, 1],\n",
       " [7, 41, 1],\n",
       " [7, 42, 1],\n",
       " [7, 150, 1],\n",
       " [7, 177, 1],\n",
       " [8, 88, 1],\n",
       " [8, 343, 1],\n",
       " [10, 100, 1],\n",
       " [10, 331, 1],\n",
       " [10, 372, 1],\n",
       " [11, 20, 3],\n",
       " [11, 24, 1],\n",
       " [11, 49, 1],\n",
       " [11, 107, 1],\n",
       " [11, 108, 1],\n",
       " [11, 280, 1],\n",
       " [12, 13, 4],\n",
       " [15, 43, 1],\n",
       " [15, 44, 1],\n",
       " [15, 49, 1],\n",
       " [15, 119, 1],\n",
       " [16, 17, 2],\n",
       " [16, 231, 1],\n",
       " [17, 53, 1],\n",
       " [17, 231, 1],\n",
       " [18, 58, 1],\n",
       " [18, 172, 1],\n",
       " [19, 39, 1],\n",
       " [19, 40, 1],\n",
       " [19, 46, 1],\n",
       " [19, 47, 1],\n",
       " [19, 60, 1],\n",
       " [19, 61, 2],\n",
       " [19, 161, 1],\n",
       " [19, 162, 1],\n",
       " [20, 24, 1],\n",
       " [20, 49, 1],\n",
       " [20, 280, 1],\n",
       " [22, 125, 1],\n",
       " [22, 128, 1],\n",
       " [22, 177, 1],\n",
       " [22, 200, 1],\n",
       " [22, 203, 1],\n",
       " [22, 223, 1],\n",
       " [23, 45, 1],\n",
       " [23, 57, 1],\n",
       " [23, 193, 1],\n",
       " [23, 198, 1],\n",
       " [23, 209, 1],\n",
       " [24, 280, 1],\n",
       " [24, 303, 2],\n",
       " [26, 154, 1],\n",
       " [26, 157, 1],\n",
       " [26, 287, 1],\n",
       " [35, 322, 1],\n",
       " [35, 379, 1],\n",
       " [36, 106, 1],\n",
       " [37, 83, 1],\n",
       " [37, 304, 1],\n",
       " [38, 46, 1],\n",
       " [38, 47, 1],\n",
       " [38, 108, 1],\n",
       " [38, 117, 1],\n",
       " [38, 118, 1],\n",
       " [39, 40, 2],\n",
       " [39, 46, 1],\n",
       " [39, 47, 1],\n",
       " [39, 60, 1],\n",
       " [39, 61, 1],\n",
       " [39, 161, 1],\n",
       " [39, 162, 1],\n",
       " [39, 238, 1],\n",
       " [39, 239, 1],\n",
       " [39, 240, 1],\n",
       " [39, 241, 1],\n",
       " [40, 42, 1],\n",
       " [40, 46, 1],\n",
       " [40, 47, 1],\n",
       " [40, 60, 1],\n",
       " [40, 61, 1],\n",
       " [40, 111, 1],\n",
       " [40, 161, 1],\n",
       " [40, 162, 1],\n",
       " [40, 238, 1],\n",
       " [40, 239, 1],\n",
       " [40, 240, 1],\n",
       " [40, 241, 1],\n",
       " [41, 42, 1],\n",
       " [42, 56, 1],\n",
       " [42, 111, 1],\n",
       " [42, 287, 1],\n",
       " [43, 44, 2],\n",
       " [43, 48, 1],\n",
       " [43, 49, 1],\n",
       " [43, 110, 1],\n",
       " [43, 119, 1],\n",
       " [44, 48, 1],\n",
       " [44, 49, 1],\n",
       " [44, 110, 1],\n",
       " [44, 119, 1],\n",
       " [45, 57, 1],\n",
       " [45, 116, 1],\n",
       " [46, 47, 3],\n",
       " [46, 60, 1],\n",
       " [46, 61, 1],\n",
       " [46, 108, 1],\n",
       " [46, 117, 1],\n",
       " [46, 118, 1],\n",
       " [46, 161, 1],\n",
       " [46, 162, 1],\n",
       " [47, 60, 1],\n",
       " [47, 61, 1],\n",
       " [47, 108, 1],\n",
       " [47, 117, 1],\n",
       " [47, 118, 1],\n",
       " [47, 161, 1],\n",
       " [47, 162, 1],\n",
       " [48, 52, 1],\n",
       " [48, 64, 1],\n",
       " [48, 110, 1],\n",
       " [48, 236, 1],\n",
       " [49, 119, 1],\n",
       " [49, 147, 1],\n",
       " [50, 85, 1],\n",
       " [50, 147, 1],\n",
       " [50, 259, 1],\n",
       " [50, 293, 2],\n",
       " [52, 236, 1],\n",
       " [53, 84, 1],\n",
       " [53, 106, 1],\n",
       " [53, 171, 1],\n",
       " [53, 234, 1],\n",
       " [53, 246, 1],\n",
       " [54, 132, 1],\n",
       " [54, 133, 1],\n",
       " [54, 237, 1],\n",
       " [54, 276, 1],\n",
       " [56, 134, 2],\n",
       " [56, 287, 1],\n",
       " [57, 129, 1],\n",
       " [57, 135, 1],\n",
       " [57, 137, 2],\n",
       " [58, 141, 1],\n",
       " [58, 142, 1],\n",
       " [58, 143, 1],\n",
       " [58, 144, 1],\n",
       " [58, 145, 1],\n",
       " [58, 172, 2],\n",
       " [58, 210, 1],\n",
       " [58, 231, 1],\n",
       " [60, 61, 1],\n",
       " [60, 63, 1],\n",
       " [60, 154, 1],\n",
       " [60, 155, 1],\n",
       " [60, 156, 1],\n",
       " [60, 157, 1],\n",
       " [60, 158, 1],\n",
       " [60, 160, 1],\n",
       " [60, 161, 1],\n",
       " [60, 162, 1],\n",
       " [60, 164, 1],\n",
       " [60, 165, 1],\n",
       " [60, 167, 1],\n",
       " [60, 168, 1],\n",
       " [60, 169, 1],\n",
       " [61, 161, 1],\n",
       " [61, 162, 1],\n",
       " [61, 208, 1],\n",
       " [62, 83, 1],\n",
       " [62, 163, 2],\n",
       " [62, 242, 1],\n",
       " [62, 243, 1],\n",
       " [62, 244, 1],\n",
       " [62, 245, 1],\n",
       " [63, 76, 1],\n",
       " [63, 80, 1],\n",
       " [63, 81, 1],\n",
       " [63, 164, 1],\n",
       " [63, 165, 1],\n",
       " [63, 167, 1],\n",
       " [63, 168, 1],\n",
       " [63, 169, 1],\n",
       " [63, 226, 1],\n",
       " [63, 227, 1],\n",
       " [63, 228, 1],\n",
       " [63, 234, 1],\n",
       " [65, 180, 1],\n",
       " [65, 182, 2],\n",
       " [65, 185, 1],\n",
       " [65, 186, 2],\n",
       " [65, 204, 2],\n",
       " [65, 213, 1],\n",
       " [67, 194, 1],\n",
       " [67, 274, 1],\n",
       " [68, 87, 1],\n",
       " [69, 148, 1],\n",
       " [69, 167, 1],\n",
       " [69, 190, 1],\n",
       " [69, 191, 2],\n",
       " [70, 196, 1],\n",
       " [70, 197, 1],\n",
       " [70, 207, 1],\n",
       " [72, 77, 1],\n",
       " [72, 203, 1],\n",
       " [72, 225, 1],\n",
       " [76, 226, 1],\n",
       " [76, 227, 2],\n",
       " [76, 228, 1],\n",
       " [80, 81, 2],\n",
       " [80, 161, 1],\n",
       " [80, 234, 1],\n",
       " [81, 234, 1],\n",
       " [83, 163, 1],\n",
       " [83, 242, 1],\n",
       " [83, 243, 1],\n",
       " [83, 244, 1],\n",
       " [83, 245, 1],\n",
       " [84, 158, 1],\n",
       " [84, 234, 1],\n",
       " [84, 246, 1],\n",
       " [84, 272, 2],\n",
       " [85, 253, 2],\n",
       " [85, 254, 2],\n",
       " [85, 255, 2],\n",
       " [85, 256, 2],\n",
       " [85, 257, 2],\n",
       " [85, 258, 2],\n",
       " [85, 259, 2],\n",
       " [85, 260, 2],\n",
       " [85, 262, 2],\n",
       " [85, 263, 2],\n",
       " [85, 293, 1],\n",
       " [86, 99, 1],\n",
       " [86, 269, 1],\n",
       " [87, 169, 1],\n",
       " [88, 102, 1],\n",
       " [89, 309, 1],\n",
       " [93, 346, 1],\n",
       " [93, 347, 1],\n",
       " [94, 335, 1],\n",
       " [104, 344, 1],\n",
       " [105, 113, 1],\n",
       " [105, 392, 2],\n",
       " [106, 171, 1],\n",
       " [107, 108, 1],\n",
       " [108, 117, 1],\n",
       " [108, 118, 1],\n",
       " [113, 392, 1],\n",
       " [116, 274, 1],\n",
       " [117, 118, 1],\n",
       " [119, 123, 1],\n",
       " [120, 121, 2],\n",
       " [123, 124, 1],\n",
       " [124, 149, 1],\n",
       " [124, 150, 1],\n",
       " [125, 126, 1],\n",
       " [125, 127, 1],\n",
       " [125, 128, 1],\n",
       " [125, 200, 1],\n",
       " [125, 223, 1],\n",
       " [126, 127, 1],\n",
       " [126, 128, 1],\n",
       " [127, 128, 1],\n",
       " [127, 138, 1],\n",
       " [127, 139, 1],\n",
       " [127, 140, 1],\n",
       " [128, 177, 1],\n",
       " [128, 203, 1],\n",
       " [129, 137, 1],\n",
       " [132, 133, 1],\n",
       " [132, 276, 1],\n",
       " [133, 276, 1],\n",
       " [135, 137, 1],\n",
       " [135, 174, 1],\n",
       " [135, 296, 1],\n",
       " [138, 139, 2],\n",
       " [138, 140, 2],\n",
       " [139, 140, 2],\n",
       " [141, 142, 1],\n",
       " [141, 143, 1],\n",
       " [141, 144, 1],\n",
       " [141, 145, 1],\n",
       " [142, 143, 1],\n",
       " [142, 144, 1],\n",
       " [142, 145, 1],\n",
       " [143, 144, 1],\n",
       " [143, 145, 1],\n",
       " [143, 187, 1],\n",
       " [144, 145, 2],\n",
       " [144, 232, 1],\n",
       " [144, 235, 1],\n",
       " [145, 232, 1],\n",
       " [145, 235, 1],\n",
       " [147, 293, 1],\n",
       " [148, 167, 1],\n",
       " [148, 191, 1],\n",
       " [149, 150, 1],\n",
       " [150, 177, 1],\n",
       " [154, 155, 1],\n",
       " [154, 156, 1],\n",
       " [154, 157, 2],\n",
       " [154, 158, 1],\n",
       " [154, 160, 1],\n",
       " [155, 156, 1],\n",
       " [155, 157, 1],\n",
       " [155, 158, 1],\n",
       " [155, 160, 2],\n",
       " [156, 157, 1],\n",
       " [156, 158, 1],\n",
       " [156, 160, 1],\n",
       " [156, 290, 1],\n",
       " [157, 158, 1],\n",
       " [157, 160, 1],\n",
       " [158, 160, 1],\n",
       " [158, 272, 1],\n",
       " [161, 162, 1],\n",
       " [163, 242, 1],\n",
       " [163, 243, 1],\n",
       " [163, 244, 1],\n",
       " [163, 245, 1],\n",
       " [164, 165, 2],\n",
       " [164, 167, 1],\n",
       " [164, 168, 1],\n",
       " [164, 169, 1],\n",
       " [165, 167, 1],\n",
       " [165, 168, 1],\n",
       " [165, 169, 1],\n",
       " [167, 168, 1],\n",
       " [167, 169, 1],\n",
       " [167, 191, 1],\n",
       " [168, 169, 1],\n",
       " [170, 283, 1],\n",
       " [171, 173, 1],\n",
       " [171, 188, 1],\n",
       " [171, 190, 1],\n",
       " [172, 210, 1],\n",
       " [172, 231, 1],\n",
       " [173, 188, 1],\n",
       " [173, 190, 1],\n",
       " [174, 296, 1],\n",
       " [177, 203, 1],\n",
       " [180, 182, 1],\n",
       " [180, 185, 1],\n",
       " [180, 186, 1],\n",
       " [182, 185, 1],\n",
       " [182, 186, 1],\n",
       " [182, 204, 1],\n",
       " [185, 186, 1],\n",
       " [186, 204, 1],\n",
       " [186, 213, 1],\n",
       " [188, 190, 1],\n",
       " [190, 191, 1],\n",
       " [192, 193, 1],\n",
       " [192, 194, 1],\n",
       " [192, 221, 1],\n",
       " [193, 194, 1],\n",
       " [196, 197, 1],\n",
       " [196, 207, 1],\n",
       " [197, 207, 1],\n",
       " [199, 200, 1],\n",
       " [199, 201, 1],\n",
       " [199, 209, 1],\n",
       " [200, 201, 1],\n",
       " [200, 223, 1],\n",
       " [201, 223, 1],\n",
       " [204, 213, 1],\n",
       " [210, 211, 1],\n",
       " [210, 212, 1],\n",
       " [210, 231, 1],\n",
       " [211, 212, 1],\n",
       " [217, 218, 1],\n",
       " [218, 265, 1],\n",
       " [226, 227, 1],\n",
       " [226, 228, 2],\n",
       " [227, 228, 1],\n",
       " [232, 235, 1],\n",
       " [234, 246, 1],\n",
       " [235, 307, 1],\n",
       " [238, 239, 1],\n",
       " [238, 240, 2],\n",
       " [238, 241, 1],\n",
       " [239, 240, 1],\n",
       " [239, 241, 1],\n",
       " [240, 241, 1],\n",
       " [242, 243, 2],\n",
       " [242, 244, 1],\n",
       " [242, 245, 2],\n",
       " [243, 244, 1],\n",
       " [243, 245, 2],\n",
       " [244, 245, 1],\n",
       " [247, 248, 2],\n",
       " [247, 250, 2],\n",
       " [248, 250, 2],\n",
       " [252, 348, 1],\n",
       " [253, 254, 2],\n",
       " [253, 255, 2],\n",
       " [253, 256, 2],\n",
       " [253, 257, 2],\n",
       " [253, 258, 2],\n",
       " [253, 259, 1],\n",
       " [253, 260, 2],\n",
       " [253, 262, 2],\n",
       " [253, 263, 2],\n",
       " [254, 255, 2],\n",
       " [254, 256, 2],\n",
       " [254, 257, 2],\n",
       " [254, 258, 2],\n",
       " [254, 259, 1],\n",
       " [254, 260, 2],\n",
       " [254, 262, 2],\n",
       " [254, 263, 2],\n",
       " [255, 256, 2],\n",
       " [255, 257, 2],\n",
       " [255, 258, 2],\n",
       " [255, 259, 1],\n",
       " [255, 260, 2],\n",
       " [255, 262, 2],\n",
       " [255, 263, 2],\n",
       " [256, 257, 2],\n",
       " [256, 258, 2],\n",
       " [256, 259, 1],\n",
       " [256, 260, 2],\n",
       " [256, 262, 2],\n",
       " [256, 263, 2],\n",
       " [257, 258, 2],\n",
       " [257, 259, 1],\n",
       " [257, 260, 2],\n",
       " [257, 262, 2],\n",
       " [257, 263, 2],\n",
       " [258, 259, 1],\n",
       " [258, 260, 2],\n",
       " [258, 262, 2],\n",
       " [258, 263, 2],\n",
       " [259, 260, 1],\n",
       " [259, 262, 1],\n",
       " [259, 263, 1],\n",
       " [259, 293, 1],\n",
       " [260, 262, 2],\n",
       " [260, 263, 2],\n",
       " [262, 263, 2],\n",
       " [270, 271, 2],\n",
       " [277, 279, 1],\n",
       " [279, 283, 1],\n",
       " [280, 385, 1],\n",
       " [280, 386, 1],\n",
       " [280, 387, 1],\n",
       " [280, 388, 1],\n",
       " [280, 389, 1],\n",
       " [297, 298, 2],\n",
       " [297, 299, 2],\n",
       " [297, 300, 2],\n",
       " [298, 299, 2],\n",
       " [298, 300, 2],\n",
       " [299, 300, 2],\n",
       " [314, 315, 1],\n",
       " [322, 379, 1],\n",
       " [328, 354, 1],\n",
       " [346, 347, 1],\n",
       " [352, 378, 1],\n",
       " [360, 379, 1],\n",
       " [365, 366, 1],\n",
       " [385, 386, 1],\n",
       " [385, 387, 1],\n",
       " [385, 388, 1],\n",
       " [385, 389, 1],\n",
       " [386, 387, 1],\n",
       " [386, 388, 1],\n",
       " [386, 389, 1],\n",
       " [387, 388, 1],\n",
       " [387, 389, 2],\n",
       " [388, 389, 1]]"
      ]
     },
     "execution_count": 56,
     "metadata": {},
     "output_type": "execute_result"
    }
   ],
   "source": [
    "edge_list"
   ]
  },
  {
   "cell_type": "code",
   "execution_count": 57,
   "metadata": {},
   "outputs": [],
   "source": [
    "f = open(\"edge.csv\", 'w')\n",
    "\n",
    "f.write(\"source\")\n",
    "f.write(\",\")\n",
    "f.write(\"target\")\n",
    "f.write(\",\")\n",
    "f.write(\"weight\")\n",
    "f.write(\"\\n\")\n",
    "\n",
    "for i in edge_list:\n",
    "    f.write(str(i[0]))\n",
    "    f.write(\",\")\n",
    "    f.write(str(i[1]))\n",
    "    f.write(\",\")\n",
    "    f.write(str(i[2]))\n",
    "    f.write(\"\\n\")\n",
    "\n",
    "f.close()"
   ]
  },
  {
   "cell_type": "markdown",
   "metadata": {},
   "source": [
    "## 제목에서 키워드 추출"
   ]
  },
  {
   "cell_type": "code",
   "execution_count": 60,
   "metadata": {},
   "outputs": [
    {
     "data": {
      "text/html": [
       "<div>\n",
       "<style scoped>\n",
       "    .dataframe tbody tr th:only-of-type {\n",
       "        vertical-align: middle;\n",
       "    }\n",
       "\n",
       "    .dataframe tbody tr th {\n",
       "        vertical-align: top;\n",
       "    }\n",
       "\n",
       "    .dataframe thead th {\n",
       "        text-align: right;\n",
       "    }\n",
       "</style>\n",
       "<table border=\"1\" class=\"dataframe\">\n",
       "  <thead>\n",
       "    <tr style=\"text-align: right;\">\n",
       "      <th></th>\n",
       "      <th>Index</th>\n",
       "      <th>Title</th>\n",
       "      <th>Abstract</th>\n",
       "      <th>Authors</th>\n",
       "      <th>Keywords</th>\n",
       "      <th>Journal</th>\n",
       "      <th>Publisher</th>\n",
       "      <th>PubDate</th>\n",
       "      <th>CitationCount</th>\n",
       "    </tr>\n",
       "  </thead>\n",
       "  <tbody>\n",
       "    <tr>\n",
       "      <th>0</th>\n",
       "      <td>A101906131</td>\n",
       "      <td>이효석 문학에 나타난 문화번역과 경계사유－『벽공무한』을 중심으로－</td>\n",
       "      <td>이효석 문학은 접근 방식이나 문학사적 평가에서 모순과 균열을 보이면서 커다란 진폭을...</td>\n",
       "      <td>김미현</td>\n",
       "      <td>fascism,female dandy,nation,border thinking,lo...</td>\n",
       "      <td>한국학연구</td>\n",
       "      <td>인하대학교 한국학연구소</td>\n",
       "      <td>2015</td>\n",
       "      <td>-999999</td>\n",
       "    </tr>\n",
       "    <tr>\n",
       "      <th>1</th>\n",
       "      <td>A101906128</td>\n",
       "      <td>일제강점기 신민요의 문학정서 연구</td>\n",
       "      <td>이 논문은 노랫말을 통해 표출되는 일제강점기(1910~1945) 新民謠의 문학적 정...</td>\n",
       "      <td>신광호</td>\n",
       "      <td>쾌 정서,신민요,文?情?,不快情?,불쾌 정서,문학정서,일제강점기,日帝强占期,新民?,快情?</td>\n",
       "      <td>한국학연구</td>\n",
       "      <td>인하대학교 한국학연구소</td>\n",
       "      <td>2015</td>\n",
       "      <td>-999999</td>\n",
       "    </tr>\n",
       "    <tr>\n",
       "      <th>2</th>\n",
       "      <td>A101906126</td>\n",
       "      <td>중국 문화권 내 주변 諸國의 세계관－한반도의 제 왕조를 중심으로－</td>\n",
       "      <td>한반도에서 흥망한 전근대의 제 왕조는 고대 이래 중국문화권의 주변국으로서 일관되게 ...</td>\n",
       "      <td>이성시</td>\n",
       "      <td>고려의 세계관,신라의 세계관,高麗の世界?,고구려의 세계관,소중화,통일신라,新羅の世界...</td>\n",
       "      <td>한국학연구</td>\n",
       "      <td>인하대학교 한국학연구소</td>\n",
       "      <td>2015</td>\n",
       "      <td>-999999</td>\n",
       "    </tr>\n",
       "    <tr>\n",
       "      <th>3</th>\n",
       "      <td>A99624747</td>\n",
       "      <td>‘만큼’의 문법적 갈래와 용법</td>\n",
       "      <td>이 연구의 목적은 국어사전과 기존 문법서에서 ‘의존명사’라는 문법범주로 처리하고있는...</td>\n",
       "      <td>김지은</td>\n",
       "      <td>NaN</td>\n",
       "      <td>한국학논집</td>\n",
       "      <td>계명대학교 한국학연구원</td>\n",
       "      <td>2013</td>\n",
       "      <td>-999999</td>\n",
       "    </tr>\n",
       "    <tr>\n",
       "      <th>4</th>\n",
       "      <td>A101906103</td>\n",
       "      <td>김시종의 시와 ‘자서전’</td>\n",
       "      <td>본고는 김시종의 자서전과 시에 대해서, 자전적 텍스트 조선과 일본을 살아가다－제주도...</td>\n",
       "      <td>오세종</td>\n",
       "      <td>places,장소,autobiographies,lives,시,Kim si-jong,...</td>\n",
       "      <td>한국학연구</td>\n",
       "      <td>인하대학교 한국학연구소</td>\n",
       "      <td>2015</td>\n",
       "      <td>-999999</td>\n",
       "    </tr>\n",
       "  </tbody>\n",
       "</table>\n",
       "</div>"
      ],
      "text/plain": [
       "        Index                                 Title  \\\n",
       "0  A101906131  이효석 문학에 나타난 문화번역과 경계사유－『벽공무한』을 중심으로－   \n",
       "1  A101906128                    일제강점기 신민요의 문학정서 연구   \n",
       "2  A101906126  중국 문화권 내 주변 諸國의 세계관－한반도의 제 왕조를 중심으로－   \n",
       "3   A99624747                      ‘만큼’의 문법적 갈래와 용법   \n",
       "4  A101906103                         김시종의 시와 ‘자서전’   \n",
       "\n",
       "                                            Abstract Authors  \\\n",
       "0  이효석 문학은 접근 방식이나 문학사적 평가에서 모순과 균열을 보이면서 커다란 진폭을...     김미현   \n",
       "1  이 논문은 노랫말을 통해 표출되는 일제강점기(1910~1945) 新民謠의 문학적 정...     신광호   \n",
       "2  한반도에서 흥망한 전근대의 제 왕조는 고대 이래 중국문화권의 주변국으로서 일관되게 ...     이성시   \n",
       "3  이 연구의 목적은 국어사전과 기존 문법서에서 ‘의존명사’라는 문법범주로 처리하고있는...     김지은   \n",
       "4  본고는 김시종의 자서전과 시에 대해서, 자전적 텍스트 조선과 일본을 살아가다－제주도...     오세종   \n",
       "\n",
       "                                            Keywords Journal     Publisher  \\\n",
       "0  fascism,female dandy,nation,border thinking,lo...   한국학연구  인하대학교 한국학연구소   \n",
       "1  쾌 정서,신민요,文?情?,不快情?,불쾌 정서,문학정서,일제강점기,日帝强占期,新民?,快情?   한국학연구  인하대학교 한국학연구소   \n",
       "2  고려의 세계관,신라의 세계관,高麗の世界?,고구려의 세계관,소중화,통일신라,新羅の世界...   한국학연구  인하대학교 한국학연구소   \n",
       "3                                                NaN   한국학논집  계명대학교 한국학연구원   \n",
       "4  places,장소,autobiographies,lives,시,Kim si-jong,...   한국학연구  인하대학교 한국학연구소   \n",
       "\n",
       "   PubDate  CitationCount  \n",
       "0     2015        -999999  \n",
       "1     2015        -999999  \n",
       "2     2015        -999999  \n",
       "3     2013        -999999  \n",
       "4     2015        -999999  "
      ]
     },
     "execution_count": 60,
     "metadata": {},
     "output_type": "execute_result"
    }
   ],
   "source": [
    "paper.head()"
   ]
  },
  {
   "cell_type": "code",
   "execution_count": 62,
   "metadata": {},
   "outputs": [
    {
     "data": {
      "text/plain": [
       "'이효석 문학에 나타난 문화번역과 경계사유－『벽공무한』을 중심으로－'"
      ]
     },
     "execution_count": 62,
     "metadata": {},
     "output_type": "execute_result"
    }
   ],
   "source": [
    "text = paper['Title'][0]\n",
    "text"
   ]
  },
  {
   "cell_type": "code",
   "execution_count": null,
   "metadata": {},
   "outputs": [],
   "source": [
    "from konlpy.corpus import kolaw\n",
    "from konlpy.tag import Okt; t=Okt()\n",
    "tokens=t.nouns(text)\n",
    "tokens"
   ]
  },
  {
   "cell_type": "markdown",
   "metadata": {},
   "source": [
    "## 요약문에서 키워드 추출"
   ]
  },
  {
   "cell_type": "code",
   "execution_count": null,
   "metadata": {},
   "outputs": [],
   "source": [
    "text = paper['Abstract'][0]\n",
    "text"
   ]
  },
  {
   "cell_type": "code",
   "execution_count": null,
   "metadata": {},
   "outputs": [],
   "source": [
    "tokens=t.nouns(text)\n",
    "tokens"
   ]
  }
 ],
 "metadata": {
  "kernelspec": {
   "display_name": "Python 3",
   "language": "python",
   "name": "python3"
  },
  "language_info": {
   "codemirror_mode": {
    "name": "ipython",
    "version": 3
   },
   "file_extension": ".py",
   "mimetype": "text/x-python",
   "name": "python",
   "nbconvert_exporter": "python",
   "pygments_lexer": "ipython3",
   "version": "3.7.3"
  }
 },
 "nbformat": 4,
 "nbformat_minor": 4
}
